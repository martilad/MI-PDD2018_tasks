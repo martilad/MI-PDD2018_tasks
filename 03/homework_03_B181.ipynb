{
 "cells": [
  {
   "cell_type": "markdown",
   "metadata": {},
   "source": [
    "# Homework nr. 3 - features transformation & selection (deadline 22/11/2018)\n",
    "\n",
    "In short, the main task is to play with transformations and feature selection methods in order to obtain the best results for linear regression model predicting house sale prices.\n",
    "  \n",
    "> The instructions are not given in details: It is up to you to come up with ideas on how to fulfill the particular tasks as best you can. ;)\n",
    "\n",
    "## What are you supposed to do\n",
    "\n",
    "Your aim is to optimize the _RMSLE_ (see the note below) of the linear regression estimator (=our prediction model) of the observed sale prices.\n",
    "\n",
    "### Instructions:\n",
    "\n",
    "  1. Download the dataset from the course pages (hw3_data.csv, hw3_data_description.txt). It corresponds to [this Kaggle competition](https://www.kaggle.com/c/house-prices-advanced-regression-techniques).\n",
    "  2. Split the dataset into train & test part exactly as we did in the tutorial.\n",
    "  3. Transform the features properly (don't forget the target variable).\n",
    "  4. Try to find the best subset of features.\n",
    "  5. Compare your results with the [Kaggle leaderboard](https://www.kaggle.com/c/house-prices-advanced-regression-techniques/leaderboard). You should be able to reach approximately the top 20% there.\n",
    "  \n",
    "Give comments on each step of your solution, with short explanations of your choices.\n",
    "\n",
    "  \n",
    "**Note**: _RMSLE_ is a Root-Mean-Squared-Error (RMSE) between the logarithm of the predicted value and the logarithm of the observed sale prices.\n",
    "\n",
    "\n",
    "## Comments\n",
    "\n",
    "  * Please follow the instructions from https://courses.fit.cvut.cz/MI-PDD/homeworks/index.html.\n",
    "  * If the reviewing teacher is not satisfied, he can give you another chance to rework your homework and to obtain more points."
   ]
  },
  {
   "cell_type": "code",
   "execution_count": 1,
   "metadata": {},
   "outputs": [],
   "source": [
    "import numpy as np\n",
    "import pandas as pd\n",
    "\n",
    "from scipy import stats, optimize\n",
    "\n",
    "from sklearn import model_selection, linear_model, metrics, preprocessing, feature_selection\n",
    "\n",
    "import matplotlib\n",
    "import matplotlib.pyplot as plt\n",
    "import seaborn as sns\n",
    "import warnings\n",
    "warnings.filterwarnings('ignore')\n",
    "%matplotlib inline"
   ]
  },
  {
   "cell_type": "code",
   "execution_count": 2,
   "metadata": {},
   "outputs": [
    {
     "name": "stdout",
     "output_type": "stream",
     "text": [
      "Value for 1% in leaderboard:  0.10968\n",
      "Value for 2% in leaderboard:  0.1100182\n",
      "Value for 3% in leaderboard:  0.11358000000000001\n",
      "Value for 5% in leaderboard:  0.11482\n",
      "Value for 10% in leaderboard:  0.11635\n",
      "Value for 20% in leaderboard:  0.12140999999999999\n",
      "Value for X30% in leaderboard:  0.12719\n"
     ]
    }
   ],
   "source": [
    "cf = pd.read_csv('house-prices-advanced-regression-techniques-publicleaderboard.csv')\n",
    "print(\"Value for 1% in leaderboard: \",cf['Score'].quantile(0.01))\n",
    "print(\"Value for 2% in leaderboard: \",cf['Score'].quantile(0.02))\n",
    "print(\"Value for 3% in leaderboard: \",cf['Score'].quantile(0.03))\n",
    "print(\"Value for 5% in leaderboard: \",cf['Score'].quantile(0.05))\n",
    "print(\"Value for 10% in leaderboard: \",cf['Score'].quantile(0.1))\n",
    "print(\"Value for 20% in leaderboard: \",cf['Score'].quantile(0.2))\n",
    "print(\"Value for X30% in leaderboard: \",cf['Score'].quantile(0.3))\n"
   ]
  },
  {
   "cell_type": "code",
   "execution_count": 3,
   "metadata": {},
   "outputs": [],
   "source": [
    "# Linear regression with RMSLE does on train and validation data.\n",
    "def linreg(train, test, plot = False, train_error = True, exp=True):\n",
    "    # Data prepare\n",
    "    X = train.drop(['SalePrice'], axis = 1, errors = 'ignore')\n",
    "    y = train.SalePrice\n",
    "    Xv = test.drop(['SalePrice'], axis = 1, errors = 'ignore')\n",
    "    yv = test.SalePrice\n",
    "    \n",
    "    # Linear Regression train\n",
    "    clf = linear_model.LinearRegression()\n",
    "    clf.fit(X, y) \n",
    "    \n",
    "    # Joint Plot\n",
    "    if plot:\n",
    "        sns.jointplot(yv, clf.predict(Xv))\n",
    "    \n",
    "    # If model predict negative value -> set to 0, not optimal but no error :)\n",
    "    predict_train = clf.predict(X)\n",
    "    predict_train[predict_train<0] = 0\n",
    "    predict_test = clf.predict(Xv)\n",
    "    predict_test[predict_test<0] = 0\n",
    "    \n",
    "    # Exp use when transform target attribute using logarithm.\n",
    "    if exp:\n",
    "        # Print RMSLE\n",
    "        print('Linear regression root mean squared log test error:',\n",
    "          np.sqrt(metrics.mean_squared_log_error(np.exp(predict_test),yv)))\n",
    "    else:\n",
    "        # Print RMSLE\n",
    "        print('Linear regression root mean squared log test error:',\n",
    "          np.sqrt(metrics.mean_squared_log_error(predict_test,yv)))\n",
    "    if exp:\n",
    "        if train_error:\n",
    "            print('Linear regression root mean squared log train error:', \n",
    "              np.sqrt(metrics.mean_squared_error(predict_train, y)))\n",
    "    else:\n",
    "        if train_error:\n",
    "            print('Linear regression root mean squared log train error:', \n",
    "              np.sqrt(metrics.mean_squared_log_error(predict_train, y)))\n",
    "    \n",
    "    "
   ]
  },
  {
   "cell_type": "code",
   "execution_count": 4,
   "metadata": {},
   "outputs": [],
   "source": [
    "df = pd.read_csv('hw3_data.csv')"
   ]
  },
  {
   "cell_type": "code",
   "execution_count": 5,
   "metadata": {},
   "outputs": [],
   "source": [
    "# Convert all object values to categorial format\n",
    "df[df.select_dtypes(include=['object']).columns] = \\\n",
    "df.select_dtypes(include=['object']).apply(pd.Series.astype, dtype='category')\n",
    "\n",
    "# Fill all NaN with 0\n",
    "df.loc[:,df.select_dtypes(include=['float64']).columns] = \\\n",
    "df.loc[:,df.select_dtypes(include=['float64']).columns].fillna(0)\n",
    "\n",
    "# Convert categorical variables to indicators and create new data\n",
    "df = pd.get_dummies(df)"
   ]
  },
  {
   "cell_type": "code",
   "execution_count": 6,
   "metadata": {},
   "outputs": [],
   "source": [
    "# Union all numbers datatype\n",
    "df[df.select_dtypes(['float16', 'float64', 'int64']).columns] = \\\n",
    "df[df.select_dtypes(['float16', 'float64', 'int64']).columns].astype('float64')"
   ]
  },
  {
   "cell_type": "code",
   "execution_count": 7,
   "metadata": {},
   "outputs": [],
   "source": [
    "# Remove constant features\n",
    "df = df[df.columns[df.min() != df.max()]]"
   ]
  },
  {
   "cell_type": "code",
   "execution_count": 8,
   "metadata": {},
   "outputs": [],
   "source": [
    "# I calculate the total area of the first and second floors and the basement.\n",
    "df['TotalSF'] = df['TotalBsmtSF'] + df['1stFlrSF'] + df['2ndFlrSF']\n",
    "# Count sqrt from area features.\n",
    "for column in df.filter(regex='Area|SF', axis=1).columns:  # SF - square foot which means area\n",
    "    df['Has' + column] = (df[column] > 0).replace({True: 1, False: 0}).astype('uint8')\n",
    "    df['Sqrt' + column] = np.sqrt(df[column])"
   ]
  },
  {
   "cell_type": "code",
   "execution_count": 9,
   "metadata": {},
   "outputs": [
    {
     "name": "stdout",
     "output_type": "stream",
     "text": [
      "Train:  1095 ; Validation:  365\n"
     ]
    }
   ],
   "source": [
    "# Split data to train and test\n",
    "train, test = model_selection.train_test_split(df, test_size=0.25, random_state=179424691)\n",
    "train = train.copy()\n",
    "test = test.copy()\n",
    "print('Train: ', len(train), '; Validation: ', len(test))"
   ]
  },
  {
   "cell_type": "code",
   "execution_count": 10,
   "metadata": {},
   "outputs": [
    {
     "name": "stdout",
     "output_type": "stream",
     "text": [
      "Linear regression root mean squared log test error: 0.14745715248501307\n",
      "Linear regression root mean squared log train error: 0.10309051490351345\n"
     ]
    }
   ],
   "source": [
    "# Check the results without normalization of target variable.\n",
    "linreg(train, test, exp=False)"
   ]
  },
  {
   "cell_type": "code",
   "execution_count": 11,
   "metadata": {},
   "outputs": [
    {
     "data": {
      "text/plain": [
       "<matplotlib.legend.Legend at 0x7f983bdda7f0>"
      ]
     },
     "execution_count": 11,
     "metadata": {},
     "output_type": "execute_result"
    },
    {
     "data": {
      "image/png": "[encoded data removed]",
      "text/plain": [
       "<Figure size 432x288 with 1 Axes>"
      ]
     },
     "metadata": {
      "needs_background": "light"
     },
     "output_type": "display_data"
    }
   ],
   "source": [
    "# Distribution of the target varaible\n",
    "sns.distplot(df.SalePrice, \n",
    "             fit=stats.norm,  # It should be fitted by the normal distribution\n",
    "             hist_kws = {'label': 'Histogram'},\n",
    "             kde_kws = {'label': 'Kernel density estimate'},\n",
    "             fit_kws = {'label': 'Normal distribution fit'},\n",
    "            )\n",
    "\n",
    "plt.legend()\n",
    "# It can be seen in the graph that the distribution of the target change is not normal, \n",
    "# and for the linear regression should be the target variable normalized."
   ]
  },
  {
   "cell_type": "code",
   "execution_count": 12,
   "metadata": {},
   "outputs": [
    {
     "data": {
      "image/png": "[encoded data removed]",
      "text/plain": [
       "<Figure size 432x288 with 1 Axes>"
      ]
     },
     "metadata": {
      "needs_background": "light"
     },
     "output_type": "display_data"
    }
   ],
   "source": [
    "sns.distplot(np.log(df.SalePrice), \n",
    "             fit=stats.norm,  # It should be fitted by the normal distribution\n",
    "             hist_kws = {'label': 'Histogram'},\n",
    "             kde_kws = {'label': 'Kernel density estimate'},\n",
    "             fit_kws = {'label': 'Normal distribution fit'},\n",
    "            )\n",
    "plt.legend()\n",
    "\n",
    "# Fit target variable to normal distribution using log.\n",
    "train.SalePrice = np.log(train.SalePrice)"
   ]
  },
  {
   "cell_type": "code",
   "execution_count": 13,
   "metadata": {},
   "outputs": [
    {
     "name": "stdout",
     "output_type": "stream",
     "text": [
      "Linear regression root mean squared log test error: 0.11543821652710677\n",
      "Linear regression root mean squared log train error: 0.08788811646892399\n"
     ]
    }
   ],
   "source": [
    "# Check the results\n",
    "linreg(train, test)"
   ]
  },
  {
   "cell_type": "markdown",
   "metadata": {},
   "source": [
    "`-> We can see that linear regression is quite good after normalization of the target variable.\n",
    "It is easy to place linear regression data when the target variable has a normal distribution than if it does not have it.`\n",
    "\n",
    "`-> When I lok on leader bord this normalization is good to hit the first 20% of leaderbord.`"
   ]
  },
  {
   "cell_type": "code",
   "execution_count": 14,
   "metadata": {},
   "outputs": [],
   "source": [
    "# ID is the first feature to delete. No information.\n",
    "columns_to_remove = ['Id']\n",
    "# Find features with low variance - we assume that they cannot help to infer the observable\n",
    "# this makes sense especially for indicators\n",
    "columns_to_remove = list(set(list(train.columns[train.var() < 0.0001]) + columns_to_remove)) "
   ]
  },
  {
   "cell_type": "code",
   "execution_count": 15,
   "metadata": {},
   "outputs": [],
   "source": [
    "train = train.drop(columns_to_remove, axis=1, errors = 'ignore')\n",
    "test = test.drop(columns_to_remove, axis=1, errors = 'ignore')"
   ]
  },
  {
   "cell_type": "code",
   "execution_count": 16,
   "metadata": {},
   "outputs": [
    {
     "name": "stdout",
     "output_type": "stream",
     "text": [
      "Linear regression root mean squared log test error: 0.11532958221289899\n",
      "Linear regression root mean squared log train error: 0.08796840043503182\n"
     ]
    }
   ],
   "source": [
    "# Check the results\n",
    "linreg(train, test)"
   ]
  },
  {
   "cell_type": "code",
   "execution_count": 17,
   "metadata": {},
   "outputs": [
    {
     "data": {
      "text/plain": [
       "SalePrice        1.000000\n",
       "OverallQual      0.815952\n",
       "SqrtTotalSF      0.802140\n",
       "TotalSF          0.766802\n",
       "SqrtGrLivArea    0.720137\n",
       "GrLivArea        0.697059\n",
       "GarageCars       0.672168\n",
       "GarageArea       0.636227\n",
       "TotalBsmtSF      0.605597\n",
       "Sqrt1stFlrSF     0.605439\n",
       "Name: SalePrice, dtype: float64"
      ]
     },
     "metadata": {},
     "output_type": "display_data"
    },
    {
     "name": "stdout",
     "output_type": "stream",
     "text": [
      "[]\n"
     ]
    }
   ],
   "source": [
    "# Correlation matrix Pearson\n",
    "corrP = train.drop(columns_to_remove, axis = 1, errors = 'ignore').corr(method='pearson')\n",
    "# I try to drop some columns using low correlation but this is not positive effect in score, \n",
    "# So I remove only when correlation is lower than 0.001.\n",
    "# Pearson top 10 with target\n",
    "corrP_cols = corrP.SalePrice.abs().nlargest(10).index\n",
    "display(corrP.SalePrice.loc[corrP_cols])\n",
    "# One can remove those with correlation smaller than some treshold.\n",
    "additional_columns = list(corrP.SalePrice[corrP.SalePrice.abs() < 0.001].index)\n",
    "print(additional_columns)\n",
    "# extend columns_to_remove and remove\n",
    "columns_to_remove = list(set(columns_to_remove + additional_columns))\n",
    "train = train.drop(columns_to_remove, axis=1, errors = 'ignore')\n",
    "test = test.drop(columns_to_remove, axis=1, errors = 'ignore')"
   ]
  },
  {
   "cell_type": "code",
   "execution_count": 18,
   "metadata": {},
   "outputs": [
    {
     "name": "stdout",
     "output_type": "stream",
     "text": [
      "Linear regression root mean squared log test error: 0.11532958221289899\n",
      "Linear regression root mean squared log train error: 0.08796840043503182\n"
     ]
    }
   ],
   "source": [
    "# Check the results\n",
    "linreg(train, test)"
   ]
  },
  {
   "cell_type": "code",
   "execution_count": 19,
   "metadata": {},
   "outputs": [
    {
     "data": {
      "image/png": "[encoded data removed]",
      "text/plain": [
       "<Figure size 432x288 with 2 Axes>"
      ]
     },
     "metadata": {
      "needs_background": "light"
     },
     "output_type": "display_data"
    }
   ],
   "source": [
    "# Vizualization of one feature with target variable.\n",
    "fig, (ax1, ax2) = plt.subplots(1,2)\n",
    "plt.subplots_adjust(wspace=0.5)\n",
    "ax1.scatter(x = train['GrLivArea'], y = train['SalePrice'])\n",
    "ax1.set_ylabel('SalePrice', fontsize=13)\n",
    "ax1.set_xlabel('GrLivArea', fontsize=13)\n",
    "\n",
    "#Deleting outliers\n",
    "train = train.drop(train[(train['GrLivArea']>4000) & (train['SalePrice']<300000)].index)\n",
    "\n",
    "#Check the graphic again\n",
    "ax2.scatter(train['GrLivArea'], train['SalePrice'])\n",
    "ax2.set_ylabel('SalePrice', fontsize=13)\n",
    "ax2.set_xlabel('GrLivArea', fontsize=13)\n",
    "plt.show()\n"
   ]
  },
  {
   "cell_type": "code",
   "execution_count": 20,
   "metadata": {},
   "outputs": [
    {
     "data": {
      "image/png": "[encoded data removed]",
      "text/plain": [
       "<Figure size 432x288 with 2 Axes>"
      ]
     },
     "metadata": {
      "needs_background": "light"
     },
     "output_type": "display_data"
    }
   ],
   "source": [
    "# Vizualization of one feature with target variable.\n",
    "fig, (ax1, ax2) = plt.subplots(1,2)\n",
    "plt.subplots_adjust(wspace=0.5)\n",
    "ax1.scatter(x = train['LotArea'], y = train['SalePrice'])\n",
    "ax1.set_ylabel('SalePrice', fontsize=13)\n",
    "ax1.set_xlabel('LotArea', fontsize=13)\n",
    "\n",
    "#Deleting outliers\n",
    "train = train.drop(train[(train['LotArea']>100000)].index)\n",
    "\n",
    "#Check the graphic again\n",
    "ax2.scatter(train['LotArea'], train['SalePrice'])\n",
    "ax2.set_ylabel('SalePrice', fontsize=13)\n",
    "ax2.set_xlabel('LotArea', fontsize=13)\n",
    "plt.show()"
   ]
  },
  {
   "cell_type": "markdown",
   "metadata": {},
   "source": [
    "`-> Drop outliers cant be good always but in this case the LotArea and GrLivArea have some outliers, which can be remove.\n",
    "When I remove these outliers, the success rate of the model increase. Removing outliers does not have to be a good thing in all datasets and cases, but in this case and these attributes, it has great influence because there are here houses with the large area and low price. This will be hard to predict, but it can worsen model.`\n"
   ]
  },
  {
   "cell_type": "code",
   "execution_count": 21,
   "metadata": {},
   "outputs": [
    {
     "name": "stdout",
     "output_type": "stream",
     "text": [
      "Linear regression root mean squared log test error: 0.11427555798694218\n",
      "Linear regression root mean squared log train error: 0.0856024090427754\n"
     ]
    }
   ],
   "source": [
    "linreg(train, test)"
   ]
  },
  {
   "cell_type": "code",
   "execution_count": 22,
   "metadata": {},
   "outputs": [
    {
     "name": "stdout",
     "output_type": "stream",
     "text": [
      "Linear regression root mean squared log test error: 0.11160656488677079\n",
      "Linear regression root mean squared log train error: 0.08537568999625009\n"
     ]
    }
   ],
   "source": [
    "# I check distribution of attributes same as in target variable and \n",
    "# It is good use log transform for these attributes to improve model.\n",
    "train1 = train.copy()\n",
    "test1 = test.copy()\n",
    "\n",
    "log_norm = ['SqrtLotArea',  'GrLivArea', 'TotalSF', 'SqrtGrLivArea', 'SqrtTotalSF']\n",
    "\n",
    "for col in log_norm:\n",
    "    train1[col] = np.log(train1[col])\n",
    "    test1[col] = np.log(test1[col])\n",
    "linreg(train1, test1)"
   ]
  },
  {
   "cell_type": "markdown",
   "metadata": {},
   "source": [
    "`I tried to use the Lasso method with cross-validation feature selection. It is the possible, to select smaller subset of attributes with good error, but I did not succeed in increasing the value already achieved.`"
   ]
  },
  {
   "cell_type": "code",
   "execution_count": 23,
   "metadata": {},
   "outputs": [
    {
     "data": {
      "text/html": [
       "<div>\n",
       "<style scoped>\n",
       "    .dataframe tbody tr th:only-of-type {\n",
       "        vertical-align: middle;\n",
       "    }\n",
       "\n",
       "    .dataframe tbody tr th {\n",
       "        vertical-align: top;\n",
       "    }\n",
       "\n",
       "    .dataframe thead th {\n",
       "        text-align: right;\n",
       "    }\n",
       "</style>\n",
       "<table border=\"1\" class=\"dataframe\">\n",
       "  <thead>\n",
       "    <tr style=\"text-align: right;\">\n",
       "      <th></th>\n",
       "      <th>Chosen</th>\n",
       "    </tr>\n",
       "  </thead>\n",
       "  <tbody>\n",
       "    <tr>\n",
       "      <th>MSSubClass</th>\n",
       "      <td>False</td>\n",
       "    </tr>\n",
       "    <tr>\n",
       "      <th>LotFrontage</th>\n",
       "      <td>False</td>\n",
       "    </tr>\n",
       "    <tr>\n",
       "      <th>Condition2_Norm</th>\n",
       "      <td>False</td>\n",
       "    </tr>\n",
       "    <tr>\n",
       "      <th>Condition2_PosA</th>\n",
       "      <td>False</td>\n",
       "    </tr>\n",
       "    <tr>\n",
       "      <th>Condition2_PosN</th>\n",
       "      <td>False</td>\n",
       "    </tr>\n",
       "  </tbody>\n",
       "</table>\n",
       "</div>"
      ],
      "text/plain": [
       "                 Chosen\n",
       "MSSubClass        False\n",
       "LotFrontage       False\n",
       "Condition2_Norm   False\n",
       "Condition2_PosA   False\n",
       "Condition2_PosN   False"
      ]
     },
     "metadata": {},
     "output_type": "display_data"
    },
    {
     "name": "stdout",
     "output_type": "stream",
     "text": [
      "Chosen 190 from  311 features.\n",
      "Linear regression root mean squared log test error: 0.11132388433392244\n",
      "Linear regression root mean squared log train error: 0.095147752620942\n"
     ]
    }
   ],
   "source": [
    "# The Lasso - L^1 regularized regression to obtain a sparse solution\n",
    "# Then the non-zero features may be extracted from the result.\n",
    "\n",
    "# Prepare the data\n",
    "X = train1.drop(['SalePrice'], axis = 1, errors = 'ignore')\n",
    "y = train1.SalePrice\n",
    "\n",
    "used_columns = X.columns\n",
    "\n",
    "# We use the base estimator Lasso since the L1 norm promotes sparsity of features.\n",
    "clf = linear_model.Lasso(alpha = 10, max_iter = 10000)\n",
    "\n",
    "sfm = feature_selection.RFECV(clf, step=1, cv=3, min_features_to_select=190)\n",
    "sfm.fit(X, y)\n",
    "\n",
    "# transform result to dataframe\n",
    "result = pd.DataFrame({'Chosen': sfm.get_support()}, index=list(used_columns))\n",
    "# columns to leave\n",
    "columns_to_leave = result[result.Chosen == True].index\n",
    "# show results\n",
    "display(result[result.Chosen == False].head(5))\n",
    "print('Chosen', result.Chosen.sum(),'from ', result.Chosen.shape[0], 'features.')\n",
    "linreg(train1[list(columns_to_leave) + ['SalePrice']], test1[list(columns_to_leave) + ['SalePrice']])"
   ]
  },
  {
   "cell_type": "markdown",
   "metadata": {},
   "source": [
    "`The best result I achieve when I use PCA on all attributes and select 190 components. Interesting is it the same number which was best in the lasso when selecting attributes. `"
   ]
  },
  {
   "cell_type": "code",
   "execution_count": 24,
   "metadata": {},
   "outputs": [
    {
     "name": "stdout",
     "output_type": "stream",
     "text": [
      "Linear regression root mean squared log test error: 0.10951281483135074\n",
      "Linear regression root mean squared log train error: 0.09343449115517734\n"
     ]
    }
   ],
   "source": [
    "from sklearn.decomposition import PCA\n",
    "# Use data only with target attribute transform.\n",
    "X = train.drop(['SalePrice'], axis = 1, errors = 'ignore')\n",
    "x = train['SalePrice']\n",
    "Y = test.drop(['SalePrice'], axis = 1, errors = 'ignore')\n",
    "y = test['SalePrice']\n",
    "#create pca mand fit on train data\n",
    "pca = PCA(n_components=190)\n",
    "\n",
    "pca.fit(X)\n",
    "\n",
    "# use the tranformation on both data\n",
    "train_img = data = pca.transform(X)\n",
    "test_img = data = pca.transform(Y)\n",
    "\n",
    "# Test transformation to linear regresion\n",
    "\n",
    "clf = linear_model.LinearRegression()\n",
    "clf.fit(train_img, x) \n",
    "    \n",
    "    \n",
    "# If model predict negative value -> set to 0, not optimal but no error :)\n",
    "predict_train = clf.predict(train_img)\n",
    "predict_train[predict_train<0] = 0\n",
    "predict_test = clf.predict(test_img)\n",
    "predict_test[predict_test<0] = 0\n",
    "    \n",
    "print('Linear regression root mean squared log test error:',\n",
    "          np.sqrt(metrics.mean_squared_log_error(np.exp(predict_test),y)))\n",
    "\n",
    "print('Linear regression root mean squared log train error:', \n",
    "              np.sqrt(metrics.mean_squared_error(predict_train, x)))\n",
    "\n",
    "\n"
   ]
  }
 ],
 "metadata": {
  "kernelspec": {
   "display_name": "Python 3",
   "language": "python",
   "name": "python3"
  },
  "language_info": {
   "codemirror_mode": {
    "name": "ipython",
    "version": 3
   },
   "file_extension": ".py",
   "mimetype": "text/x-python",
   "name": "python",
   "nbconvert_exporter": "python",
   "pygments_lexer": "ipython3",
   "version": "3.7.0"
  }
 },
 "nbformat": 4,
 "nbformat_minor": 2
}
