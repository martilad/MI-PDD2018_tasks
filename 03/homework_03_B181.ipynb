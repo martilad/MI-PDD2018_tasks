{
 "cells": [
  {
   "cell_type": "markdown",
   "metadata": {},
   "source": [
    "# Homework nr. 3 - features transformation & selection (deadline 22/11/2018)\n",
    "\n",
    "In short, the main task is to play with transformations and feature selection methods in order to obtain the best results for linear regression model predicting house sale prices.\n",
    "  \n",
    "> The instructions are not given in details: It is up to you to come up with ideas on how to fulfill the particular tasks as best you can. ;)\n",
    "\n",
    "## What are you supposed to do\n",
    "\n",
    "Your aim is to optimize the _RMSLE_ (see the note below) of the linear regression estimator (=our prediction model) of the observed sale prices.\n",
    "\n",
    "### Instructions:\n",
    "\n",
    "  1. Download the dataset from the course pages (hw3_data.csv, hw3_data_description.txt). It corresponds to [this Kaggle competition](https://www.kaggle.com/c/house-prices-advanced-regression-techniques).\n",
    "  2. Split the dataset into train & test part exactly as we did in the tutorial.\n",
    "  3. Transform the features properly (don't forget the target variable).\n",
    "  4. Try to find the best subset of features.\n",
    "  5. Compare your results with the [Kaggle leaderboard](https://www.kaggle.com/c/house-prices-advanced-regression-techniques/leaderboard). You should be able to reach approximately the top 20% there.\n",
    "  \n",
    "Give comments on each step of your solution, with short explanations of your choices.\n",
    "\n",
    "  \n",
    "**Note**: _RMSLE_ is a Root-Mean-Squared-Error (RMSE) between the logarithm of the predicted value and the logarithm of the observed sale prices.\n",
    "\n",
    "\n",
    "## Comments\n",
    "\n",
    "  * Please follow the instructions from https://courses.fit.cvut.cz/MI-PDD/homeworks/index.html.\n",
    "  * If the reviewing teacher is not satisfied, he can give you another chance to rework your homework and to obtain more points."
   ]
  },
  {
   "cell_type": "code",
   "execution_count": 1,
   "metadata": {},
   "outputs": [],
   "source": [
    "import numpy as np\n",
    "import pandas as pd\n",
    "\n",
    "from scipy import stats, optimize\n",
    "\n",
    "from sklearn import model_selection, linear_model, metrics, preprocessing, feature_selection\n",
    "\n",
    "import matplotlib\n",
    "import matplotlib.pyplot as plt\n",
    "import seaborn as sns\n",
    "\n",
    "%matplotlib inline"
   ]
  },
  {
   "cell_type": "code",
   "execution_count": 2,
   "metadata": {},
   "outputs": [
    {
     "data": {
      "text/html": [
       "<div>\n",
       "<style scoped>\n",
       "    .dataframe tbody tr th:only-of-type {\n",
       "        vertical-align: middle;\n",
       "    }\n",
       "\n",
       "    .dataframe tbody tr th {\n",
       "        vertical-align: top;\n",
       "    }\n",
       "\n",
       "    .dataframe thead th {\n",
       "        text-align: right;\n",
       "    }\n",
       "</style>\n",
       "<table border=\"1\" class=\"dataframe\">\n",
       "  <thead>\n",
       "    <tr style=\"text-align: right;\">\n",
       "      <th></th>\n",
       "      <th>TeamId</th>\n",
       "      <th>Score</th>\n",
       "    </tr>\n",
       "  </thead>\n",
       "  <tbody>\n",
       "    <tr>\n",
       "      <th>count</th>\n",
       "      <td>1.488200e+04</td>\n",
       "      <td>14882.000000</td>\n",
       "    </tr>\n",
       "    <tr>\n",
       "      <th>mean</th>\n",
       "      <td>1.930352e+06</td>\n",
       "      <td>0.423272</td>\n",
       "    </tr>\n",
       "    <tr>\n",
       "      <th>std</th>\n",
       "      <td>4.609598e+05</td>\n",
       "      <td>2.582241</td>\n",
       "    </tr>\n",
       "    <tr>\n",
       "      <th>min</th>\n",
       "      <td>3.661800e+05</td>\n",
       "      <td>0.052860</td>\n",
       "    </tr>\n",
       "    <tr>\n",
       "      <th>25%</th>\n",
       "      <td>1.829125e+06</td>\n",
       "      <td>0.124412</td>\n",
       "    </tr>\n",
       "    <tr>\n",
       "      <th>50%</th>\n",
       "      <td>2.099231e+06</td>\n",
       "      <td>0.142390</td>\n",
       "    </tr>\n",
       "    <tr>\n",
       "      <th>75%</th>\n",
       "      <td>2.237818e+06</td>\n",
       "      <td>0.179025</td>\n",
       "    </tr>\n",
       "    <tr>\n",
       "      <th>max</th>\n",
       "      <td>2.385066e+06</td>\n",
       "      <td>136.042180</td>\n",
       "    </tr>\n",
       "  </tbody>\n",
       "</table>\n",
       "</div>"
      ],
      "text/plain": [
       "             TeamId         Score\n",
       "count  1.488200e+04  14882.000000\n",
       "mean   1.930352e+06      0.423272\n",
       "std    4.609598e+05      2.582241\n",
       "min    3.661800e+05      0.052860\n",
       "25%    1.829125e+06      0.124412\n",
       "50%    2.099231e+06      0.142390\n",
       "75%    2.237818e+06      0.179025\n",
       "max    2.385066e+06    136.042180"
      ]
     },
     "execution_count": 2,
     "metadata": {},
     "output_type": "execute_result"
    }
   ],
   "source": [
    "cf = pd.read_csv('house-prices-advanced-regression-techniques-publicleaderboard.csv')\n",
    "cf.describe()"
   ]
  },
  {
   "cell_type": "code",
   "execution_count": 3,
   "metadata": {},
   "outputs": [],
   "source": [
    "# Linear regression with RMSLE does on train and validation data.\n",
    "def linreg(train, test, plot = False, train_error = True):\n",
    "    # Data prepare\n",
    "    X = train.drop(['SalePrice'], axis = 1, errors = 'ignore')\n",
    "    y = train.SalePrice\n",
    "    Xv = test.drop(['SalePrice'], axis = 1, errors = 'ignore')\n",
    "    yv = test.SalePrice\n",
    "    \n",
    "    # Linear Regression train\n",
    "    clf = linear_model.LinearRegression()\n",
    "    clf.fit(X, y) \n",
    "    \n",
    "    # Joint Plot\n",
    "    if plot:\n",
    "        sns.jointplot(yv, clf.predict(Xv))\n",
    "        \n",
    "    predict_train = clf.predict(X)\n",
    "    predict_train[predict_train<0] = 0\n",
    "    predict_test = clf.predict(Xv)\n",
    "    predict_test[predict_test<0] = 0\n",
    "        \n",
    "    # Print RMSLE\n",
    "    print('Linear regression root mean squared log test error:',\n",
    "          np.sqrt(metrics.mean_squared_log_error(np.exp(predict_test),yv)))\n",
    "    if train_error:\n",
    "        print('Linear regression root mean squared log train error:', \n",
    "              np.sqrt(metrics.mean_squared_log_error(predict_train, y)))\n",
    "    \n",
    "    "
   ]
  },
  {
   "cell_type": "code",
   "execution_count": 4,
   "metadata": {},
   "outputs": [],
   "source": [
    "df = pd.read_csv('hw3_data.csv')"
   ]
  },
  {
   "cell_type": "code",
   "execution_count": 5,
   "metadata": {},
   "outputs": [],
   "source": [
    "# Drop column with a many missing.\n",
    "#df = df.drop(['PoolQC', 'MiscFeature', 'Alley' ], axis=1, errors = 'ignore')\n",
    "\n",
    "# Convert all object values to categorial format\n",
    "df[df.select_dtypes(include=['object']).columns] = \\\n",
    "df.select_dtypes(include=['object']).apply(pd.Series.astype, dtype='category')\n",
    "\n",
    "# Fill all NaN with 0\n",
    "df.loc[:,df.select_dtypes(include=['float64']).columns] = \\\n",
    "df.loc[:,df.select_dtypes(include=['float64']).columns].fillna(0)\n",
    "\n",
    "# Convert categorical variables to indicators and create new data\n",
    "df = pd.get_dummies(df)"
   ]
  },
  {
   "cell_type": "code",
   "execution_count": 6,
   "metadata": {},
   "outputs": [],
   "source": [
    "# Union all numbers datatype\n",
    "df[df.select_dtypes(['float16', 'float64', 'int64']).columns] = \\\n",
    "df[df.select_dtypes(['float16', 'float64', 'int64']).columns].astype('float64')"
   ]
  },
  {
   "cell_type": "code",
   "execution_count": 7,
   "metadata": {},
   "outputs": [],
   "source": [
    "# Remove constant features\n",
    "df = df[df.columns[df.min() != df.max()]]"
   ]
  },
  {
   "cell_type": "code",
   "execution_count": 8,
   "metadata": {},
   "outputs": [
    {
     "name": "stdout",
     "output_type": "stream",
     "text": [
      "Shape of the data: (1460, 323)\n"
     ]
    }
   ],
   "source": [
    "# I calculate the basement area of the first and second floors.\n",
    "df['TotalSF'] = df['TotalBsmtSF'] + df['1stFlrSF'] + df['2ndFlrSF']\n",
    "# Count sqrt from area features.\n",
    "for column in df.filter(regex='Area|SF', axis=1).columns:  # SF - square foot which means area\n",
    "    df['Has' + column] = (df[column] > 0).replace({True: 1, False: 0}).astype('uint8')\n",
    "    df['Sqrt' + column] = np.sqrt(df[column])\n",
    "\n",
    "print('Shape of the data:', df.shape)"
   ]
  },
  {
   "cell_type": "code",
   "execution_count": 9,
   "metadata": {},
   "outputs": [
    {
     "name": "stdout",
     "output_type": "stream",
     "text": [
      "Train:  1095 ; Validation:  365\n"
     ]
    }
   ],
   "source": [
    "# Split data to train and test\n",
    "train, test = model_selection.train_test_split(df, test_size=0.25, random_state=179424691)\n",
    "train = train.copy()\n",
    "test = test.copy()\n",
    "print('Train: ', len(train), '; Validation: ', len(test))"
   ]
  },
  {
   "cell_type": "code",
   "execution_count": 10,
   "metadata": {},
   "outputs": [
    {
     "name": "stderr",
     "output_type": "stream",
     "text": [
      "/home/ladislav/MI-PDD2018/MI-PDD-2018-martilad/03/__venv__/lib/python3.7/site-packages/scipy/stats/stats.py:1713: FutureWarning: Using a non-tuple sequence for multidimensional indexing is deprecated; use `arr[tuple(seq)]` instead of `arr[seq]`. In the future this will be interpreted as an array index, `arr[np.array(seq)]`, which will result either in an error or a different result.\n",
      "  return np.add.reduce(sorted[indexer] * weights, axis=axis) / sumval\n"
     ]
    },
    {
     "data": {
      "text/plain": [
       "<matplotlib.legend.Legend at 0x7f8394a4f748>"
      ]
     },
     "execution_count": 10,
     "metadata": {},
     "output_type": "execute_result"
    },
    {
     "data": {
      "image/png": "[encoded data removed]",
      "text/plain": [
       "<Figure size 432x288 with 1 Axes>"
      ]
     },
     "metadata": {
      "needs_background": "light"
     },
     "output_type": "display_data"
    }
   ],
   "source": [
    "# Distribution of the target varaible\n",
    "sns.distplot(df.SalePrice, \n",
    "             fit=stats.norm,  # It should be fitted by the normal distribution\n",
    "             hist_kws = {'label': 'Histogram'},\n",
    "             kde_kws = {'label': 'Kernel density estimate'},\n",
    "             fit_kws = {'label': 'Normal distribution fit'},\n",
    "            )\n",
    "\n",
    "plt.legend()\n",
    "# observe the transformed distribution\n"
   ]
  },
  {
   "cell_type": "code",
   "execution_count": 11,
   "metadata": {},
   "outputs": [
    {
     "name": "stdout",
     "output_type": "stream",
     "text": [
      "NormaltestResult(statistic=25.507009834238303, pvalue=2.89216582205235e-06)\n"
     ]
    },
    {
     "data": {
      "image/png": "[encoded data removed]",
      "text/plain": [
       "<Figure size 432x288 with 1 Axes>"
      ]
     },
     "metadata": {
      "needs_background": "light"
     },
     "output_type": "display_data"
    }
   ],
   "source": [
    "sns.distplot(np.log(df.SalePrice), \n",
    "             fit=stats.norm,  # It should be fitted by the normal distribution\n",
    "             hist_kws = {'label': 'Histogram'},\n",
    "             kde_kws = {'label': 'Kernel density estimate'},\n",
    "             fit_kws = {'label': 'Normal distribution fit'},\n",
    "            )\n",
    "plt.legend()\n",
    "train.SalePrice = np.log(train.SalePrice)\n",
    "print(stats.normaltest(np.log(df.SalePrice)))"
   ]
  },
  {
   "cell_type": "code",
   "execution_count": 12,
   "metadata": {},
   "outputs": [
    {
     "name": "stdout",
     "output_type": "stream",
     "text": [
      "Linear regression root mean squared log test error: 0.11543821652710677\n",
      "Linear regression root mean squared log train error: 0.006809794613663609\n"
     ]
    }
   ],
   "source": [
    "linreg(train, test)"
   ]
  },
  {
   "cell_type": "code",
   "execution_count": 13,
   "metadata": {},
   "outputs": [],
   "source": [
    "# It is the first feature to delete. No information.\n",
    "columns_to_remove = ['Id']\n",
    "# Find features with low variance - we assume that they cannot help to infer the observable\n",
    "# this makes sense especially for indicators\n",
    "columns_to_remove = list(set(list(train.columns[train.var() < 0.00001]) + columns_to_remove)) \n"
   ]
  },
  {
   "cell_type": "code",
   "execution_count": 14,
   "metadata": {},
   "outputs": [],
   "source": [
    "train = train.drop(columns_to_remove, axis=1, errors = 'ignore')\n",
    "test = test.drop(columns_to_remove, axis=1, errors = 'ignore')"
   ]
  },
  {
   "cell_type": "code",
   "execution_count": 15,
   "metadata": {},
   "outputs": [
    {
     "name": "stdout",
     "output_type": "stream",
     "text": [
      "Linear regression root mean squared log test error: 0.11532958221289899\n",
      "Linear regression root mean squared log train error: 0.006816762704484568\n"
     ]
    }
   ],
   "source": [
    "linreg(train, test)"
   ]
  },
  {
   "cell_type": "code",
   "execution_count": 16,
   "metadata": {},
   "outputs": [],
   "source": [
    "# Correlation matrix Pearson & Spearman\n",
    "corrP = train.drop(columns_to_remove, axis = 1, errors = 'ignore').corr(method='pearson')"
   ]
  },
  {
   "cell_type": "code",
   "execution_count": 17,
   "metadata": {},
   "outputs": [
    {
     "data": {
      "text/plain": [
       "SalePrice        1.000000\n",
       "OverallQual      0.815952\n",
       "SqrtTotalSF      0.802140\n",
       "TotalSF          0.766802\n",
       "SqrtGrLivArea    0.720137\n",
       "GrLivArea        0.697059\n",
       "GarageCars       0.672168\n",
       "GarageArea       0.636227\n",
       "TotalBsmtSF      0.605597\n",
       "Sqrt1stFlrSF     0.605439\n",
       "Name: SalePrice, dtype: float64"
      ]
     },
     "metadata": {},
     "output_type": "display_data"
    }
   ],
   "source": [
    "# Pearson top 10 with target\n",
    "corrP_cols = corrP.SalePrice.abs().nlargest(10).index\n",
    "display(corrP.SalePrice.loc[corrP_cols])"
   ]
  },
  {
   "cell_type": "code",
   "execution_count": 18,
   "metadata": {},
   "outputs": [
    {
     "name": "stdout",
     "output_type": "stream",
     "text": [
      "(1095, 312)\n"
     ]
    }
   ],
   "source": [
    "print(train.shape)"
   ]
  },
  {
   "cell_type": "code",
   "execution_count": 19,
   "metadata": {},
   "outputs": [
    {
     "name": "stdout",
     "output_type": "stream",
     "text": [
      "[]\n"
     ]
    }
   ],
   "source": [
    "# One can remove those with correlation smaller than some treshold.\n",
    "additional_columns = list(corrP.SalePrice[corrP.SalePrice.abs() < 0.001].index)\n",
    "print(additional_columns)\n",
    "# extend columns_to_remove.\n",
    "columns_to_remove = list(set(columns_to_remove + additional_columns))"
   ]
  },
  {
   "cell_type": "code",
   "execution_count": 20,
   "metadata": {},
   "outputs": [],
   "source": [
    "# Remove columns.\n",
    "train = train.drop(columns_to_remove, axis=1, errors = 'ignore')\n",
    "test = test.drop(columns_to_remove, axis=1, errors = 'ignore')"
   ]
  },
  {
   "cell_type": "code",
   "execution_count": 21,
   "metadata": {},
   "outputs": [
    {
     "name": "stdout",
     "output_type": "stream",
     "text": [
      "Linear regression root mean squared log test error: 0.11532958221289899\n",
      "Linear regression root mean squared log train error: 0.006816762704484568\n"
     ]
    }
   ],
   "source": [
    "# Check.\n",
    "linreg(train, test)"
   ]
  },
  {
   "cell_type": "code",
   "execution_count": 22,
   "metadata": {},
   "outputs": [
    {
     "data": {
      "image/png": "[encoded data removed]",
      "text/plain": [
       "<Figure size 432x288 with 2 Axes>"
      ]
     },
     "metadata": {
      "needs_background": "light"
     },
     "output_type": "display_data"
    }
   ],
   "source": [
    "# Vizualization of one feature with target variable.\n",
    "fig, (ax1, ax2) = plt.subplots(1,2)\n",
    "plt.subplots_adjust(wspace=0.5)\n",
    "ax1.scatter(x = train['GrLivArea'], y = train['SalePrice'])\n",
    "ax1.set_ylabel('SalePrice', fontsize=13)\n",
    "ax1.set_xlabel('GrLivArea', fontsize=13)\n",
    "\n",
    "#Deleting outliers\n",
    "train = train.drop(train[(train['GrLivArea']>4000) & (train['SalePrice']<300000)].index)\n",
    "\n",
    "#Check the graphic again\n",
    "ax2.scatter(train['GrLivArea'], train['SalePrice'])\n",
    "ax2.set_ylabel('SalePrice', fontsize=13)\n",
    "ax2.set_xlabel('GrLivArea', fontsize=13)\n",
    "plt.show()\n"
   ]
  },
  {
   "cell_type": "code",
   "execution_count": 23,
   "metadata": {},
   "outputs": [
    {
     "data": {
      "image/png": "[encoded data removed]",
      "text/plain": [
       "<Figure size 432x288 with 2 Axes>"
      ]
     },
     "metadata": {
      "needs_background": "light"
     },
     "output_type": "display_data"
    }
   ],
   "source": [
    "# Vizualization of one feature with target variable.\n",
    "fig, (ax1, ax2) = plt.subplots(1,2)\n",
    "plt.subplots_adjust(wspace=0.5)\n",
    "ax1.scatter(x = train['LotArea'], y = train['SalePrice'])\n",
    "ax1.set_ylabel('SalePrice', fontsize=13)\n",
    "ax1.set_xlabel('LotArea', fontsize=13)\n",
    "\n",
    "#Deleting outliers\n",
    "train = train.drop(train[(train['LotArea']>100000)].index)\n",
    "\n",
    "#Check the graphic again\n",
    "ax2.scatter(train['LotArea'], train['SalePrice'])\n",
    "ax2.set_ylabel('SalePrice', fontsize=13)\n",
    "ax2.set_xlabel('LotArea', fontsize=13)\n",
    "plt.show()"
   ]
  },
  {
   "cell_type": "code",
   "execution_count": 24,
   "metadata": {},
   "outputs": [
    {
     "name": "stderr",
     "output_type": "stream",
     "text": [
      "/home/ladislav/MI-PDD2018/MI-PDD-2018-martilad/03/__venv__/lib/python3.7/site-packages/scipy/stats/stats.py:1713: FutureWarning: Using a non-tuple sequence for multidimensional indexing is deprecated; use `arr[tuple(seq)]` instead of `arr[seq]`. In the future this will be interpreted as an array index, `arr[np.array(seq)]`, which will result either in an error or a different result.\n",
      "  return np.add.reduce(sorted[indexer] * weights, axis=axis) / sumval\n"
     ]
    },
    {
     "name": "stdout",
     "output_type": "stream",
     "text": [
      "Linear regression root mean squared log test error: 0.11427555798694218\n",
      "Linear regression root mean squared log train error: 0.00665550720104708\n"
     ]
    },
    {
     "data": {
      "image/png": "[encoded data removed]",
      "text/plain": [
       "<Figure size 432x432 with 3 Axes>"
      ]
     },
     "metadata": {
      "needs_background": "light"
     },
     "output_type": "display_data"
    }
   ],
   "source": [
    "linreg(train, test, True)"
   ]
  },
  {
   "cell_type": "code",
   "execution_count": 25,
   "metadata": {},
   "outputs": [],
   "source": [
    "# Remove columns which has a lot of same values in hot encoding.\n",
    "for i in train.columns:\n",
    "    if np.count_nonzero((train[i] == 1 )) > 900 and len((train[i]).unique())<3:\n",
    "        # Remove columns.\n",
    "        train = train.drop(i, axis=1, errors = 'ignore')\n",
    "        test = test.drop(i, axis=1, errors = 'ignore')"
   ]
  },
  {
   "cell_type": "code",
   "execution_count": 26,
   "metadata": {},
   "outputs": [
    {
     "name": "stdout",
     "output_type": "stream",
     "text": [
      "Linear regression root mean squared log test error: 0.11534954616048483\n",
      "Linear regression root mean squared log train error: 0.0066660076142009105\n"
     ]
    }
   ],
   "source": [
    "linreg(train, test)"
   ]
  },
  {
   "cell_type": "code",
   "execution_count": 27,
   "metadata": {},
   "outputs": [
    {
     "name": "stderr",
     "output_type": "stream",
     "text": [
      "/home/ladislav/MI-PDD2018/MI-PDD-2018-martilad/03/__venv__/lib/python3.7/site-packages/sklearn/feature_selection/from_model.py:197: UserWarning: With alpha=0, this algorithm does not converge well. You are advised to use the LinearRegression estimator\n",
      "  self.estimator_.fit(X, y, **fit_params)\n",
      "/home/ladislav/MI-PDD2018/MI-PDD-2018-martilad/03/__venv__/lib/python3.7/site-packages/sklearn/linear_model/coordinate_descent.py:477: UserWarning: Coordinate descent with no regularization may lead to unexpected results and is discouraged.\n",
      "  positive)\n",
      "/home/ladislav/MI-PDD2018/MI-PDD-2018-martilad/03/__venv__/lib/python3.7/site-packages/sklearn/linear_model/coordinate_descent.py:491: ConvergenceWarning: Objective did not converge. You might want to increase the number of iterations. Fitting data with very small alpha may cause precision problems.\n",
      "  ConvergenceWarning)\n"
     ]
    },
    {
     "data": {
      "text/html": [
       "<div>\n",
       "<style scoped>\n",
       "    .dataframe tbody tr th:only-of-type {\n",
       "        vertical-align: middle;\n",
       "    }\n",
       "\n",
       "    .dataframe tbody tr th {\n",
       "        vertical-align: top;\n",
       "    }\n",
       "\n",
       "    .dataframe thead th {\n",
       "        text-align: right;\n",
       "    }\n",
       "</style>\n",
       "<table border=\"1\" class=\"dataframe\">\n",
       "  <thead>\n",
       "    <tr style=\"text-align: right;\">\n",
       "      <th></th>\n",
       "      <th>Chosen</th>\n",
       "    </tr>\n",
       "  </thead>\n",
       "  <tbody>\n",
       "    <tr>\n",
       "      <th>LotArea</th>\n",
       "      <td>False</td>\n",
       "    </tr>\n",
       "    <tr>\n",
       "      <th>RoofMatl_ClyTile</th>\n",
       "      <td>False</td>\n",
       "    </tr>\n",
       "    <tr>\n",
       "      <th>PoolQC_Ex</th>\n",
       "      <td>False</td>\n",
       "    </tr>\n",
       "    <tr>\n",
       "      <th>SqrtHouseStyle_SFoyer</th>\n",
       "      <td>False</td>\n",
       "    </tr>\n",
       "  </tbody>\n",
       "</table>\n",
       "</div>"
      ],
      "text/plain": [
       "                       Chosen\n",
       "LotArea                 False\n",
       "RoofMatl_ClyTile        False\n",
       "PoolQC_Ex               False\n",
       "SqrtHouseStyle_SFoyer   False"
      ]
     },
     "metadata": {},
     "output_type": "display_data"
    },
    {
     "name": "stdout",
     "output_type": "stream",
     "text": [
      "Chosen 285 from  289 features.\n"
     ]
    }
   ],
   "source": [
    "# The Lasso - L^1 regularized regression to obtain a sparse solution\n",
    "# Then the non-zero features may be extracted from the result.\n",
    "\n",
    "# Prepare the data\n",
    "X = train.drop(['SalePrice'], axis = 1, errors = 'ignore')\n",
    "y = train.SalePrice\n",
    "\n",
    "used_columns = X.columns\n",
    "\n",
    "# We use the base estimator Lasso since the L1 norm promotes sparsity of features.\n",
    "clf = linear_model.Lasso(alpha = 0, max_iter = 1000)\n",
    "\n",
    "sfm = feature_selection.SelectFromModel(clf)\n",
    "sfm.fit(X, y)\n",
    "\n",
    "# transform result to dataframe\n",
    "result = pd.DataFrame({'Chosen': sfm.get_support()}, index=list(used_columns))\n",
    "# columns to leave\n",
    "columns_to_leave = result[result.Chosen == True].index\n",
    "# show results\n",
    "display(result[result.Chosen == False].head(5))\n",
    "print('Chosen', result.Chosen.sum(),'from ', result.Chosen.shape[0], 'features.')"
   ]
  },
  {
   "cell_type": "code",
   "execution_count": 28,
   "metadata": {},
   "outputs": [
    {
     "name": "stderr",
     "output_type": "stream",
     "text": [
      "/home/ladislav/MI-PDD2018/MI-PDD-2018-martilad/03/__venv__/lib/python3.7/site-packages/scipy/stats/stats.py:1713: FutureWarning: Using a non-tuple sequence for multidimensional indexing is deprecated; use `arr[tuple(seq)]` instead of `arr[seq]`. In the future this will be interpreted as an array index, `arr[np.array(seq)]`, which will result either in an error or a different result.\n",
      "  return np.add.reduce(sorted[indexer] * weights, axis=axis) / sumval\n"
     ]
    },
    {
     "name": "stdout",
     "output_type": "stream",
     "text": [
      "Linear regression root mean squared log test error: 0.11230839551463907\n",
      "Linear regression root mean squared log train error: 0.006670884786295166\n"
     ]
    },
    {
     "data": {
      "image/png": "[encoded data removed]",
      "text/plain": [
       "<Figure size 432x432 with 3 Axes>"
      ]
     },
     "metadata": {
      "needs_background": "light"
     },
     "output_type": "display_data"
    }
   ],
   "source": [
    "linreg(train[list(columns_to_leave) + ['SalePrice']], test[list(columns_to_leave) + ['SalePrice']], True)"
   ]
  },
  {
   "cell_type": "code",
   "execution_count": 29,
   "metadata": {},
   "outputs": [
    {
     "name": "stderr",
     "output_type": "stream",
     "text": [
      "/home/ladislav/MI-PDD2018/MI-PDD-2018-martilad/03/__venv__/lib/python3.7/site-packages/scipy/stats/stats.py:1713: FutureWarning: Using a non-tuple sequence for multidimensional indexing is deprecated; use `arr[tuple(seq)]` instead of `arr[seq]`. In the future this will be interpreted as an array index, `arr[np.array(seq)]`, which will result either in an error or a different result.\n",
      "  return np.add.reduce(sorted[indexer] * weights, axis=axis) / sumval\n"
     ]
    },
    {
     "name": "stdout",
     "output_type": "stream",
     "text": [
      "Linear regression root mean squared log test error: 0.11230839551463907\n",
      "Linear regression root mean squared log train error: 0.006670884786295166\n"
     ]
    },
    {
     "data": {
      "image/png": "[encoded data removed]",
      "text/plain": [
       "<Figure size 432x432 with 3 Axes>"
      ]
     },
     "metadata": {
      "needs_background": "light"
     },
     "output_type": "display_data"
    }
   ],
   "source": [
    "from sklearn.decomposition import PCA\n",
    "X = train.drop(['SalePrice'], axis = 1, errors = 'ignore')\n",
    "y = train.SalePrice\n",
    "pca = PCA(n_components=4)\n",
    "\n",
    "pd.DataFrame(pca.fit_transform(X))\n",
    "#print(pca.components_)\n",
    "#print(pca.explained_variance_ratio_)  \n",
    "#print(pca.singular_values_) \n",
    "\n",
    "# transform result to dataframe\n",
    "linreg(train[list(columns_to_leave) + ['SalePrice']], test[list(columns_to_leave) + ['SalePrice']], True)"
   ]
  },
  {
   "cell_type": "code",
   "execution_count": null,
   "metadata": {},
   "outputs": [],
   "source": []
  }
 ],
 "metadata": {
  "kernelspec": {
   "display_name": "Python 3",
   "language": "python",
   "name": "python3"
  },
  "language_info": {
   "codemirror_mode": {
    "name": "ipython",
    "version": 3
   },
   "file_extension": ".py",
   "mimetype": "text/x-python",
   "name": "python",
   "nbconvert_exporter": "python",
   "pygments_lexer": "ipython3",
   "version": "3.7.0"
  }
 },
 "nbformat": 4,
 "nbformat_minor": 2
}
