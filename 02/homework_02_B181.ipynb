{
 "cells": [
  {
   "cell_type": "markdown",
   "metadata": {},
   "source": [
    "# Homework nr. 2 - data cleaning (deadline 8/11/2018)\n",
    "\n",
    "In short, the main task is to clean The Metropolitan Museum of Art Open Access dataset.\n",
    "  \n",
    "> The instructions are not given in details: It is up to you to come up with ideas on how to fulfill the particular tasks as best you can. ;)\n",
    "\n",
    "## What are you supposed to do:\n",
    "\n",
    "  1. Download the dataset MetObjects.csv from the repository https://github.com/metmuseum/openaccess/.\n",
    "  2. Check consistency of at least three features where you expect problems (include \"Object Name\" feature).\n",
    "  3. Select some features where you expect integrity problems (describe your choice) and check integrity of those features.\n",
    "  4. Convert at least five features to a proper data type. Choose at least one numeric, one categorical and one datetime.\n",
    "  5. Find some outliers (describe your selection criteria).\n",
    "  6. Detect missing data in at least three features, convert them to a proper representation (if they are already not), and impute missing values in at least one feature.\n",
    "\n",
    "**If you do all this properly, you will obtain 6 points**\n",
    "\n",
    "To earn **extra two points** you can do some of these:\n",
    "  * Focus more precisely on cleaning of the \"Medium\" feature. Such if you like to use it in KNN based algorithms later.\n",
    "  * Focus on the extraction of physical dimensions of each item (width, depth and height in centimeters) from the \"Dimensions\" feature.\n",
    "\n",
    "## Comments\n",
    "\n",
    "  * Please follow the instructions from https://courses.fit.cvut.cz/MI-PDD/homeworks/index.html.\n",
    "  * If the reviewing teacher is not satisfied, he can give you another chance to rework your homework and to obtain more points."
   ]
  },
  {
   "cell_type": "code",
   "execution_count": null,
   "metadata": {},
   "outputs": [],
   "source": [
    "### here comes your code"
   ]
  }
 ],
 "metadata": {
  "kernelspec": {
   "display_name": "Python 3",
   "language": "python",
   "name": "python3"
  },
  "language_info": {
   "codemirror_mode": {
    "name": "ipython",
    "version": 3
   },
   "file_extension": ".py",
   "mimetype": "text/x-python",
   "name": "python",
   "nbconvert_exporter": "python",
   "pygments_lexer": "ipython3",
   "version": "3.6.3"
  }
 },
 "nbformat": 4,
 "nbformat_minor": 2
}
